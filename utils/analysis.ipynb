{
 "cells": [
  {
   "cell_type": "markdown",
   "metadata": {},
   "source": [
    "import packages and set image size"
   ]
  },
  {
   "cell_type": "code",
   "execution_count": 7,
   "metadata": {},
   "outputs": [],
   "source": [
    "import json\n",
    "import os\n",
    "import numpy as np\n",
    "import matplotlib\n",
    "import matplotlib.pyplot as plt\n",
    "\n",
    "matplotlib.rcParams['pdf.fonttype'] = 42\n",
    "matplotlib.rcParams['ps.fonttype'] = 42\n",
    "plt.rcParams['figure.figsize'] = [10,10]"
   ]
  },
  {
   "cell_type": "markdown",
   "metadata": {},
   "source": [
    "this funtion reads results from 1 specific run for N iterations"
   ]
  },
  {
   "cell_type": "code",
   "execution_count": 10,
   "metadata": {},
   "outputs": [],
   "source": [
    "def read_experiment_results(full_path, iterations):\n",
    "    dir_name = full_path\n",
    "    results = []\n",
    "    for it in range(iterations):\n",
    "        with open(dir_name + 'iteration_' + str(it) + '.json') as json_file:\n",
    "            if it % 10 == 0:\n",
    "                print(it)\n",
    "            data = json.load(json_file)\n",
    "            results.append(data)\n",
    "    print(\"Finished reading \", full_path)\n",
    "    return results\n"
   ]
  },
  {
   "cell_type": "markdown",
   "metadata": {},
   "source": [
    "In this cell you choose which run and which full_path to use to read the results of that "
   ]
  },
  {
   "cell_type": "code",
   "execution_count": 3,
   "metadata": {},
   "outputs": [
    {
     "name": "stdout",
     "output_type": "stream",
     "text": [
      "0\n",
      "10\n",
      "20\n",
      "30\n",
      "40\n",
      "Finished reading  /Users/soren/Work/autolr/dumps/frace/run_3/\n"
     ]
    }
   ],
   "source": [
    "run_number = [1:15]\n",
    "iterations = 100\n",
    "os_string = \"osx\"\n",
    "results = []\n",
    "if os_string == \"osx\":\n",
    "    path = \"/Users/soren/Work/autolr/dumps/frace/run_\"\n",
    "elif os_string == \"w10\":\n",
    "    path = \"G:\\\\My Drive\\\\results\\\\autolr-2022-05-25\\\\run_\"\n",
    "for i in run_number: \n",
    "    results.append(read_experiment_results(path + i + '/', iterations))\n"
   ]
  },
  {
   "cell_type": "code",
   "execution_count": 4,
   "metadata": {},
   "outputs": [
    {
     "name": "stdout",
     "output_type": "stream",
     "text": [
      "[0] New Best: -0.6926474545563448 square(sqrt(add(alpha, divide_no_nan(pow(add(alpha, pow(constant(1.56514861e-02), add(divide_no_nan(sqrt(sqrt(grad)), divide_no_nan(add(constant(2.11963334e-01), square(alpha)), constant(2.47663801e-01))), subtract(add(beta, pow(add(beta, add(grad, alpha)), grad)), constant(9.25893264e-01))))), beta), alpha))))\n",
      "[9] New Best: -0.7871503959449806 subtract(constant(2.28478855e-04), alpha)\n",
      "{'genotype': [[0], [1], [], [0], [0], [8], [1], [], [0], [1], [], [0, 0, 1, 0, 1, 1], [4, 8, 4], [0, 0, 0], [0, 3, 3], [77], [0, 1, 1], [1], [1, 2], []], 'fitness': -0.7871503959449806, 'tree_depth': 9, 'operation': 'copy', 'id': 157, 'evaluations': [], 'phenotype': 'alpha_func, beta_func, sigma_func, grad_func = lambda shape,  alpha, grad: tf.constant(2.28478855e-04, shape=shape, dtype=tf.float32), lambda shape,  alpha, beta, grad: alpha, lambda shape,  alpha, beta, sigma, grad: tf.math.pow(tf.math.sqrt(tf.constant(9.96148968e-01, shape=shape, dtype=tf.float32)), tf.math.pow(sigma, sigma)), lambda shape,  alpha, beta, sigma, grad: tf.math.subtract(alpha, beta)', 'mapping_values': [1, 1, 0, 1, 1, 1, 1, 0, 1, 1, 0, 6, 3, 3, 3, 1, 3, 1, 2, 0], 'smart_phenotype': 'subtract(constant(2.28478855e-04), alpha)', 'other_info': {}, 'parent': [0]}\n"
     ]
    }
   ],
   "source": [
    "best = 1\n",
    "it = 0\n",
    "best_indivs = {}\n",
    "averages = []\n",
    "best_indiv = None\n",
    "for generation in results[0]:\n",
    "    new_best = False \n",
    "    total_fits = 0\n",
    "    for indiv in generation:\n",
    "        total_fits += indiv[\"fitness\"]\n",
    "        if indiv[\"fitness\"] < best:\n",
    "            best = indiv[\"fitness\"]\n",
    "            best_indiv = indiv\n",
    "            best_indivs[it] = indiv\n",
    "            new_best = True\n",
    "    averages.append(total_fits/len(generation))\n",
    "    if new_best:\n",
    "        print(f\"[{it}] New Best: {best} {best_indiv['smart_phenotype']}\")\n",
    "    it += 1\n",
    "print(best_indiv)\n"
   ]
  },
  {
   "cell_type": "code",
   "execution_count": 15,
   "metadata": {},
   "outputs": [],
   "source": [
    "import re\n",
    "def get_constants_and_probe(phenotype):\n",
    "    probe = []\n",
    "    constant_strings = []\n",
    "    for tf_constant in re.findall(\"tf.constant\\([0-9]\\.[0-9]+e.0[0-9], shape=shape, dtype=tf.float32\\)\", phenotype):\n",
    "        value = re.findall(\"[0-9]\\.[0-9]+e.0[0-9]\", tf_constant)\n",
    "        constant_strings.append(tf_constant)\n",
    "        probe.append(float(value[0]))\n",
    "    return constant_strings, probe\n",
    "\n",
    "from bayes_opt import BayesianOptimization\n",
    "def create_evaluate_optimizer_function(phenotype, params):\n",
    "    def evaluate_optimizer(**kwargs):\n",
    "        for key, value in kwargs.items():\n",
    "            phenotype.replace(key, f\"tf.constant({value}, shape=shape, dtype=tf.float32)\")\n",
    "        from evaluators.adaptive_optimizer_evaluator_f_race import train_model\n",
    "        fitness, other_info = train_model((phenotype, params)) \n",
    "        return fitness\n",
    "    return evaluate_optimizer\n",
    "\n",
    "\n",
    "def tune_optimizer(n_iter, init_points, phenotype, params):\n",
    "    constants, probes = get_constants_and_probe(phenotype)\n",
    "    f = create_evaluate_optimizer_function(phenotype, params)\n",
    "    pbounds = {}\n",
    "    params = {}\n",
    "    i = 0\n",
    "    for constant, probe_value in zip(constants, probes):\n",
    "        param_key = 'param_' + str(i)\n",
    "        pbounds[param_key] = (0, 1)\n",
    "        params[param_key] = probe_value\n",
    "        phenotype.replace(constant, param_key, 1)\n",
    "        i += 1\n",
    "\n",
    "    optimizer = BayesianOptimization(\n",
    "        f=f,\n",
    "        pbounds=pbounds,\n",
    "        verbose=1\n",
    "    )\n",
    "\n",
    "    optimizer.probe(params=params\n",
    "    )\n",
    "    \n",
    "    optimizer.maximize(\n",
    "        init_points=init_points,\n",
    "        n_iter=n_iter,\n",
    "    )"
   ]
  },
  {
   "cell_type": "code",
   "execution_count": 16,
   "metadata": {},
   "outputs": [
    {
     "ename": "KeyboardInterrupt",
     "evalue": "",
     "output_type": "error",
     "traceback": [
      "\u001b[0;31m---------------------------------------------------------------------------\u001b[0m",
      "\u001b[0;31mKeyboardInterrupt\u001b[0m                         Traceback (most recent call last)",
      "\u001b[0;32m/var/folders/ty/mww5pldj4jv73m00vfvl0dyw0000gn/T/ipykernel_5443/2128088912.py\u001b[0m in \u001b[0;36m<module>\u001b[0;34m\u001b[0m\n\u001b[1;32m      4\u001b[0m \u001b[0;32mif\u001b[0m \u001b[0mmodule_path\u001b[0m \u001b[0;32mnot\u001b[0m \u001b[0;32min\u001b[0m \u001b[0msys\u001b[0m\u001b[0;34m.\u001b[0m\u001b[0mpath\u001b[0m\u001b[0;34m:\u001b[0m\u001b[0;34m\u001b[0m\u001b[0;34m\u001b[0m\u001b[0m\n\u001b[1;32m      5\u001b[0m     \u001b[0msys\u001b[0m\u001b[0;34m.\u001b[0m\u001b[0mpath\u001b[0m\u001b[0;34m.\u001b[0m\u001b[0mappend\u001b[0m\u001b[0;34m(\u001b[0m\u001b[0mmodule_path\u001b[0m\u001b[0;34m)\u001b[0m\u001b[0;34m\u001b[0m\u001b[0;34m\u001b[0m\u001b[0m\n\u001b[0;32m----> 6\u001b[0;31m \u001b[0;32mfrom\u001b[0m \u001b[0mevaluators\u001b[0m\u001b[0;34m.\u001b[0m\u001b[0madaptive_optimizer_evaluator_f_race\u001b[0m \u001b[0;32mimport\u001b[0m \u001b[0mtrain_model\u001b[0m\u001b[0;34m\u001b[0m\u001b[0;34m\u001b[0m\u001b[0m\n\u001b[0m\u001b[1;32m      7\u001b[0m params = {\n\u001b[1;32m      8\u001b[0m     \u001b[0;34m\"parameters\"\u001b[0m\u001b[0;34m:\u001b[0m \u001b[0;34m\"parameters/adaptive_autolr_mutation_level_fmni.yml\"\u001b[0m\u001b[0;34m,\u001b[0m\u001b[0;34m\u001b[0m\u001b[0;34m\u001b[0m\u001b[0m\n",
      "\u001b[0;32m~/Work/autolr/evaluators/adaptive_optimizer_evaluator_f_race.py\u001b[0m in \u001b[0;36m<module>\u001b[0;34m\u001b[0m\n\u001b[1;32m      1\u001b[0m \u001b[0;32mimport\u001b[0m \u001b[0mcsv\u001b[0m\u001b[0;34m\u001b[0m\u001b[0;34m\u001b[0m\u001b[0m\n\u001b[0;32m----> 2\u001b[0;31m \u001b[0;32mfrom\u001b[0m \u001b[0mutils\u001b[0m\u001b[0;34m.\u001b[0m\u001b[0mdata_functions\u001b[0m \u001b[0;32mimport\u001b[0m \u001b[0mload_fashion_mnist_training\u001b[0m\u001b[0;34m\u001b[0m\u001b[0;34m\u001b[0m\u001b[0m\n\u001b[0m\u001b[1;32m      3\u001b[0m \u001b[0;32mimport\u001b[0m \u001b[0mtensorflow\u001b[0m \u001b[0;32mas\u001b[0m \u001b[0mtf\u001b[0m\u001b[0;34m\u001b[0m\u001b[0;34m\u001b[0m\u001b[0m\n\u001b[1;32m      4\u001b[0m \u001b[0mgpus\u001b[0m \u001b[0;34m=\u001b[0m \u001b[0mtf\u001b[0m\u001b[0;34m.\u001b[0m\u001b[0mconfig\u001b[0m\u001b[0;34m.\u001b[0m\u001b[0mexperimental\u001b[0m\u001b[0;34m.\u001b[0m\u001b[0mlist_physical_devices\u001b[0m\u001b[0;34m(\u001b[0m\u001b[0;34m'GPU'\u001b[0m\u001b[0;34m)\u001b[0m\u001b[0;34m\u001b[0m\u001b[0;34m\u001b[0m\u001b[0m\n\u001b[1;32m      5\u001b[0m \u001b[0;32mif\u001b[0m \u001b[0mgpus\u001b[0m\u001b[0;34m:\u001b[0m\u001b[0;34m\u001b[0m\u001b[0;34m\u001b[0m\u001b[0m\n",
      "\u001b[0;32m~/Work/autolr/utils/data_functions.py\u001b[0m in \u001b[0;36m<module>\u001b[0;34m\u001b[0m\n\u001b[1;32m      6\u001b[0m \u001b[0;32mfrom\u001b[0m \u001b[0mtensorflow\u001b[0m\u001b[0;34m.\u001b[0m\u001b[0mkeras\u001b[0m\u001b[0;34m.\u001b[0m\u001b[0mdatasets\u001b[0m \u001b[0;32mimport\u001b[0m \u001b[0mfashion_mnist\u001b[0m\u001b[0;34m,\u001b[0m \u001b[0mcifar10\u001b[0m\u001b[0;34m\u001b[0m\u001b[0;34m\u001b[0m\u001b[0m\n\u001b[1;32m      7\u001b[0m \u001b[0;32mfrom\u001b[0m \u001b[0mtensorflow\u001b[0m\u001b[0;34m.\u001b[0m\u001b[0mkeras\u001b[0m \u001b[0;32mimport\u001b[0m \u001b[0mbackend\u001b[0m \u001b[0;32mas\u001b[0m \u001b[0mK\u001b[0m\u001b[0;34m\u001b[0m\u001b[0;34m\u001b[0m\u001b[0m\n\u001b[0;32m----> 8\u001b[0;31m \u001b[0;32mfrom\u001b[0m \u001b[0moptimizers\u001b[0m\u001b[0;34m.\u001b[0m\u001b[0mcustom_optimizer\u001b[0m \u001b[0;32mimport\u001b[0m \u001b[0mCustomOptimizer\u001b[0m\u001b[0;34m\u001b[0m\u001b[0;34m\u001b[0m\u001b[0m\n\u001b[0m\u001b[1;32m      9\u001b[0m \u001b[0;32mimport\u001b[0m \u001b[0mnumpy\u001b[0m \u001b[0;32mas\u001b[0m \u001b[0mnp\u001b[0m\u001b[0;34m\u001b[0m\u001b[0;34m\u001b[0m\u001b[0m\n\u001b[1;32m     10\u001b[0m \u001b[0;34m\u001b[0m\u001b[0m\n",
      "\u001b[0;32m~/Work/autolr/optimizers/custom_optimizer.py\u001b[0m in \u001b[0;36m<module>\u001b[0;34m\u001b[0m\n\u001b[1;32m      2\u001b[0m \u001b[0;32mfrom\u001b[0m \u001b[0mtensorflow\u001b[0m \u001b[0;32mimport\u001b[0m \u001b[0mkeras\u001b[0m\u001b[0;34m\u001b[0m\u001b[0;34m\u001b[0m\u001b[0m\n\u001b[1;32m      3\u001b[0m \u001b[0;32mfrom\u001b[0m \u001b[0mtensorflow\u001b[0m\u001b[0;34m.\u001b[0m\u001b[0mpython\u001b[0m\u001b[0;34m.\u001b[0m\u001b[0mtraining\u001b[0m \u001b[0;32mimport\u001b[0m \u001b[0mtraining_ops\u001b[0m\u001b[0;34m\u001b[0m\u001b[0;34m\u001b[0m\u001b[0m\n\u001b[0;32m----> 4\u001b[0;31m \u001b[0;32mimport\u001b[0m \u001b[0mtorch\u001b[0m\u001b[0;34m\u001b[0m\u001b[0;34m\u001b[0m\u001b[0m\n\u001b[0m\u001b[1;32m      5\u001b[0m \u001b[0;34m\u001b[0m\u001b[0m\n\u001b[1;32m      6\u001b[0m \u001b[0;32mclass\u001b[0m \u001b[0mCustomOptimizer\u001b[0m\u001b[0;34m(\u001b[0m\u001b[0mkeras\u001b[0m\u001b[0;34m.\u001b[0m\u001b[0moptimizers\u001b[0m\u001b[0;34m.\u001b[0m\u001b[0mOptimizer\u001b[0m\u001b[0;34m)\u001b[0m\u001b[0;34m:\u001b[0m\u001b[0;34m\u001b[0m\u001b[0;34m\u001b[0m\u001b[0m\n",
      "\u001b[0;32m~/Library/Python/3.8/lib/python/site-packages/torch/__init__.py\u001b[0m in \u001b[0;36m<module>\u001b[0;34m\u001b[0m\n\u001b[1;32m    654\u001b[0m \u001b[0;34m\u001b[0m\u001b[0m\n\u001b[1;32m    655\u001b[0m \u001b[0;32mfrom\u001b[0m \u001b[0;34m.\u001b[0m\u001b[0m_tensor\u001b[0m \u001b[0;32mimport\u001b[0m \u001b[0mTensor\u001b[0m\u001b[0;34m\u001b[0m\u001b[0;34m\u001b[0m\u001b[0m\n\u001b[0;32m--> 656\u001b[0;31m \u001b[0;32mfrom\u001b[0m \u001b[0;34m.\u001b[0m\u001b[0mstorage\u001b[0m \u001b[0;32mimport\u001b[0m \u001b[0m_StorageBase\u001b[0m\u001b[0;34m,\u001b[0m \u001b[0m_TypedStorage\u001b[0m\u001b[0;34m,\u001b[0m \u001b[0m_LegacyStorage\u001b[0m\u001b[0;34m,\u001b[0m \u001b[0m_UntypedStorage\u001b[0m\u001b[0;34m\u001b[0m\u001b[0;34m\u001b[0m\u001b[0m\n\u001b[0m\u001b[1;32m    657\u001b[0m \u001b[0;34m\u001b[0m\u001b[0m\n\u001b[1;32m    658\u001b[0m \u001b[0;31m# NOTE: New <type>Storage classes should never be added. When adding a new\u001b[0m\u001b[0;34m\u001b[0m\u001b[0;34m\u001b[0m\u001b[0;34m\u001b[0m\u001b[0m\n",
      "\u001b[0;32m~/Library/Python/3.8/lib/python/site-packages/torch/storage.py\u001b[0m in \u001b[0;36m<module>\u001b[0;34m\u001b[0m\n\u001b[1;32m      3\u001b[0m \u001b[0;32mimport\u001b[0m \u001b[0mtorch\u001b[0m\u001b[0;34m\u001b[0m\u001b[0;34m\u001b[0m\u001b[0m\n\u001b[1;32m      4\u001b[0m \u001b[0;32mfrom\u001b[0m \u001b[0;34m.\u001b[0m\u001b[0m_utils\u001b[0m \u001b[0;32mimport\u001b[0m \u001b[0m_type\u001b[0m\u001b[0;34m,\u001b[0m \u001b[0m_cuda\u001b[0m\u001b[0;34m\u001b[0m\u001b[0;34m\u001b[0m\u001b[0m\n\u001b[0;32m----> 5\u001b[0;31m \u001b[0;32mfrom\u001b[0m \u001b[0mtorch\u001b[0m\u001b[0;34m.\u001b[0m\u001b[0mtypes\u001b[0m \u001b[0;32mimport\u001b[0m \u001b[0mStorage\u001b[0m\u001b[0;34m\u001b[0m\u001b[0;34m\u001b[0m\u001b[0m\n\u001b[0m\u001b[1;32m      6\u001b[0m \u001b[0;32mfrom\u001b[0m \u001b[0mtyping\u001b[0m \u001b[0;32mimport\u001b[0m \u001b[0mAny\u001b[0m\u001b[0;34m,\u001b[0m \u001b[0mTypeVar\u001b[0m\u001b[0;34m,\u001b[0m \u001b[0mType\u001b[0m\u001b[0;34m,\u001b[0m \u001b[0mUnion\u001b[0m\u001b[0;34m,\u001b[0m \u001b[0mcast\u001b[0m\u001b[0;34m\u001b[0m\u001b[0;34m\u001b[0m\u001b[0m\n\u001b[1;32m      7\u001b[0m \u001b[0;32mimport\u001b[0m \u001b[0mcopy\u001b[0m\u001b[0;34m\u001b[0m\u001b[0;34m\u001b[0m\u001b[0m\n",
      "\u001b[0;32m/Library/Developer/CommandLineTools/Library/Frameworks/Python3.framework/Versions/3.8/lib/python3.8/importlib/_bootstrap.py\u001b[0m in \u001b[0;36m_find_and_load\u001b[0;34m(name, import_)\u001b[0m\n",
      "\u001b[0;32m/Library/Developer/CommandLineTools/Library/Frameworks/Python3.framework/Versions/3.8/lib/python3.8/importlib/_bootstrap.py\u001b[0m in \u001b[0;36m_find_and_load_unlocked\u001b[0;34m(name, import_)\u001b[0m\n",
      "\u001b[0;32m/Library/Developer/CommandLineTools/Library/Frameworks/Python3.framework/Versions/3.8/lib/python3.8/importlib/_bootstrap.py\u001b[0m in \u001b[0;36m_load_unlocked\u001b[0;34m(spec)\u001b[0m\n",
      "\u001b[0;32m/Library/Developer/CommandLineTools/Library/Frameworks/Python3.framework/Versions/3.8/lib/python3.8/importlib/_bootstrap_external.py\u001b[0m in \u001b[0;36mexec_module\u001b[0;34m(self, module)\u001b[0m\n",
      "\u001b[0;32m/Library/Developer/CommandLineTools/Library/Frameworks/Python3.framework/Versions/3.8/lib/python3.8/importlib/_bootstrap_external.py\u001b[0m in \u001b[0;36mget_code\u001b[0;34m(self, fullname)\u001b[0m\n",
      "\u001b[0;32m/Library/Developer/CommandLineTools/Library/Frameworks/Python3.framework/Versions/3.8/lib/python3.8/importlib/_bootstrap_external.py\u001b[0m in \u001b[0;36mget_data\u001b[0;34m(self, path)\u001b[0m\n",
      "\u001b[0;31mKeyboardInterrupt\u001b[0m: "
     ]
    }
   ],
   "source": [
    "import os\n",
    "import sys\n",
    "module_path = os.path.abspath(os.path.join('..'))\n",
    "if module_path not in sys.path:\n",
    "    sys.path.append(module_path)\n",
    "params = {\n",
    "    \"parameters\": \"parameters/adaptive_autolr_mutation_level_fmni.yml\", \n",
    "    \"popsize\": 100, \n",
    "    \"generations\": 100, \n",
    "    \"elitism\": 1, \n",
    "    \"prob_crossover\": 0.0, \n",
    "    \"prob_mutation\": {\n",
    "        \"0\": 0.0, \n",
    "        \"1\": 0.01, \n",
    "        \"2\": 0.01, \n",
    "        \"3\": 0.01, \n",
    "        \"4\": 0.05, \n",
    "        \"5\": 0.15, \n",
    "        \"6\": 0.01, \n",
    "        \"7\": 0.01, \n",
    "        \"8\": 0.01, \n",
    "        \"9\": 0.05, \"10\": 0.15, \"11\": 0.01, \"12\": 0.01, \"13\": 0.01, \"14\": 0.05, \"15\": 0.15, \"16\": 0.01, \"17\": 0.01, \"18\": 0.05, \"19\": 0.15}, \"tsize\": 2, \"grammar\": \"grammars/adaptive_autolr_grammar_mutate_level.txt\", \"experiment_name\": \"dumps/fmni\", \"run\": 1, \"save_step\": 1, \"min_tree_depth\": 6, \"max_tree_depth\": 17, \"model\": \"models/mnist_model.h5\", \"validation_size\": 3500, \"fitness_size\": 50000, \"batch_size\": 1000, \"epochs\": 100, \"patience\": 5, \"fitness_floor\": 0, }\n",
    "\n",
    "tune_optimizer(90, 10, best_indiv['phenotype'], params)"
   ]
  },
  {
   "cell_type": "code",
   "execution_count": null,
   "metadata": {},
   "outputs": [],
   "source": []
  },
  {
   "cell_type": "code",
   "execution_count": null,
   "metadata": {},
   "outputs": [],
   "source": []
  },
  {
   "cell_type": "code",
   "execution_count": null,
   "metadata": {},
   "outputs": [],
   "source": []
  },
  {
   "cell_type": "code",
   "execution_count": null,
   "metadata": {},
   "outputs": [],
   "source": []
  },
  {
   "cell_type": "code",
   "execution_count": null,
   "metadata": {},
   "outputs": [],
   "source": []
  },
  {
   "cell_type": "code",
   "execution_count": null,
   "metadata": {},
   "outputs": [],
   "source": []
  },
  {
   "cell_type": "code",
   "execution_count": null,
   "metadata": {},
   "outputs": [],
   "source": []
  },
  {
   "cell_type": "code",
   "execution_count": null,
   "metadata": {},
   "outputs": [],
   "source": []
  },
  {
   "cell_type": "code",
   "execution_count": null,
   "metadata": {},
   "outputs": [],
   "source": []
  },
  {
   "cell_type": "code",
   "execution_count": null,
   "metadata": {},
   "outputs": [],
   "source": []
  },
  {
   "cell_type": "code",
   "execution_count": null,
   "metadata": {},
   "outputs": [],
   "source": []
  },
  {
   "cell_type": "code",
   "execution_count": null,
   "metadata": {},
   "outputs": [],
   "source": []
  },
  {
   "cell_type": "code",
   "execution_count": null,
   "metadata": {},
   "outputs": [],
   "source": []
  },
  {
   "cell_type": "code",
   "execution_count": null,
   "metadata": {},
   "outputs": [],
   "source": []
  },
  {
   "cell_type": "code",
   "execution_count": null,
   "metadata": {},
   "outputs": [],
   "source": []
  },
  {
   "cell_type": "code",
   "execution_count": null,
   "metadata": {},
   "outputs": [],
   "source": []
  },
  {
   "cell_type": "code",
   "execution_count": null,
   "metadata": {},
   "outputs": [],
   "source": []
  },
  {
   "cell_type": "code",
   "execution_count": null,
   "metadata": {},
   "outputs": [],
   "source": []
  },
  {
   "cell_type": "code",
   "execution_count": null,
   "metadata": {},
   "outputs": [],
   "source": []
  },
  {
   "cell_type": "code",
   "execution_count": null,
   "metadata": {},
   "outputs": [],
   "source": []
  },
  {
   "cell_type": "code",
   "execution_count": null,
   "metadata": {},
   "outputs": [],
   "source": []
  },
  {
   "cell_type": "code",
   "execution_count": null,
   "metadata": {},
   "outputs": [],
   "source": []
  },
  {
   "cell_type": "code",
   "execution_count": null,
   "metadata": {},
   "outputs": [],
   "source": []
  },
  {
   "cell_type": "code",
   "execution_count": null,
   "metadata": {},
   "outputs": [],
   "source": []
  },
  {
   "cell_type": "code",
   "execution_count": null,
   "metadata": {},
   "outputs": [],
   "source": []
  },
  {
   "cell_type": "code",
   "execution_count": null,
   "metadata": {},
   "outputs": [],
   "source": []
  },
  {
   "cell_type": "markdown",
   "metadata": {},
   "source": [
    "We can see that best fitness and average fitness improve together until the best individual in generation 124.\n",
    "After this generation, average fitness descreases, despite the improvements of the best individual.\n",
    "Let's take a look at the best individuals, why is this happening?"
   ]
  },
  {
   "cell_type": "code",
   "execution_count": null,
   "metadata": {},
   "outputs": [],
   "source": [
    "print(f\"[44] {best_indivs[44]['smart_phenotype']} {averages[85]}\")\n",
    "print(f\"[86] {best_indivs[86]['smart_phenotype']} {averages[87]}\")\n",
    "print(f\"[88] {best_indivs[88]['smart_phenotype']} {averages[97]}\")\n",
    "print(f\"[98] {best_indivs[98]['smart_phenotype']} {averages[102]}\")\n",
    "print(f\"[103] {best_indivs[103]['smart_phenotype']} {averages[111]}\")\n",
    "print(f\"[112] {best_indivs[112]['smart_phenotype']} {averages[123]}\")\n",
    "print(f\"[124] {best_indivs[124]['smart_phenotype']} {averages[139]}\")\n",
    "print(f\"[140] {best_indivs[140]['smart_phenotype']} {averages[238]}\")\n",
    "print(f\"[239] {best_indivs[239]['smart_phenotype']} {averages[493]}\")"
   ]
  },
  {
   "cell_type": "code",
   "execution_count": null,
   "metadata": {},
   "outputs": [],
   "source": [
    "ax = plt.axes()\n",
    "ax.set_facecolor(color=\"#eff2f1\")\n",
    "ax.spines['bottom'].set_color('#08415c')\n",
    "ax.spines['top'].set_color('#08415c')\n",
    "ax.spines['left'].set_color('#08415c')\n",
    "ax.spines['right'].set_color('#08415c')\n",
    "ax.xaxis.label.set_color('#08415c')\n",
    "ax.yaxis.label.set_color('#08415c')\n",
    "ax.tick_params(axis='x', colors='#08415c')\n",
    "ax.tick_params(axis='y', colors=\"#08415c\")\n",
    "plt.plot([x for x in range(len(averages[:250]))], averages[:250], label='population average', color=\"#7796cb\")\n",
    "for x in best_indivs:\n",
    "    plt.axvline(x, color='red', linestyle='--')"
   ]
  },
  {
   "cell_type": "code",
   "execution_count": null,
   "metadata": {},
   "outputs": [],
   "source": [
    "from smart_phenotype import readable_phenotype\n",
    "print(readable_phenotype(best_indivs[44]['phenotype']))\n",
    "print(\"---\")\n",
    "print(readable_phenotype(best_indivs[86]['phenotype']))"
   ]
  },
  {
   "cell_type": "markdown",
   "metadata": {},
   "source": [
    "Momentum term and learning rate are the same values. Mutations in this value are likely very destructive"
   ]
  },
  {
   "cell_type": "code",
   "execution_count": null,
   "metadata": {},
   "outputs": [],
   "source": []
  }
 ],
 "metadata": {
  "kernelspec": {
   "display_name": "Python 3.10.8 64-bit (microsoft store)",
   "language": "python",
   "name": "python3"
  },
  "language_info": {
   "codemirror_mode": {
    "name": "ipython",
    "version": 3
   },
   "file_extension": ".py",
   "mimetype": "text/x-python",
   "name": "python",
   "nbconvert_exporter": "python",
   "pygments_lexer": "ipython3",
   "version": "3.10.8"
  },
  "metadata": {
   "interpreter": {
    "hash": "31f2aee4e71d21fbe5cf8b01ff0e069b9275f58929596ceb00d14d90e3e16cd6"
   }
  },
  "vscode": {
   "interpreter": {
    "hash": "daaf6ac28b1c18339a668ed13dbb2d52ab7f39bbae5e6ab3d06f92e732bf9ed2"
   }
  }
 },
 "nbformat": 4,
 "nbformat_minor": 2
}
