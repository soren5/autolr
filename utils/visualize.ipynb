{
 "cells": [
  {
   "cell_type": "code",
   "execution_count": 51,
   "metadata": {},
   "outputs": [],
   "source": [
    "import json\n",
    "import os\n",
    "import numpy as np\n",
    "import matplotlib.pyplot as plt\n",
    "import matplotlib\n",
    "matplotlib.rcParams['pdf.fonttype'] = 42\n",
    "matplotlib.rcParams['ps.fonttype'] = 42"
   ]
  },
  {
   "cell_type": "code",
   "execution_count": 52,
   "metadata": {},
   "outputs": [],
   "source": [
    "def prot_div(left, right):\n",
    "    if right == 0:\n",
    "        return 0\n",
    "    else:\n",
    "        return left / right\n",
    "\n",
    "def if_func(condition, state1, state2):\n",
    "    if condition:\n",
    "        return state1\n",
    "    else:\n",
    "        return state2\n",
    "\n",
    "def read_experiment_results(full_path, iterations, epochs=100):\n",
    "    dir_name = full_path\n",
    "    results = []\n",
    "    for it in range(iterations):\n",
    "        with open(dir_name + 'iteration_' + str(it) + '.json') as json_file:\n",
    "            if it % 10 == 0:\n",
    "                print(it)\n",
    "            data = json.load(json_file)\n",
    "            results.append(data)\n",
    "    print(\"Finished reading \", full_path)\n",
    "    return results\n"
   ]
  },
  {
   "cell_type": "code",
   "execution_count": 53,
   "metadata": {},
   "outputs": [
    {
     "name": "stdout",
     "output_type": "stream",
     "text": [
      "0\n",
      "10\n",
      "20\n",
      "30\n",
      "Finished reading  /Users/soren/Library/Mobile Documents/iCloud~md~obsidian/Documents/obsidian/results/autolr-2022-05-11/run_5/\n"
     ]
    }
   ],
   "source": [
    "results=[]\n",
    "run_number = ['5']\n",
    "path = \"/Users/soren/Library/Mobile Documents/iCloud~md~obsidian/Documents/obsidian/results/autolr-2022-05-11/run_\"\n",
    "iterations = 33 \n",
    "for i in run_number: \n",
    "    results.append(read_experiment_results(path + i + '/', iterations))\n"
   ]
  },
  {
   "cell_type": "code",
   "execution_count": 54,
   "metadata": {},
   "outputs": [
    {
     "data": {
      "image/png": "[encoded data removed]",
      "text/plain": "<Figure size 432x288 with 1 Axes>"
     },
     "metadata": {},
     "output_type": "display_data"
    }
   ],
   "source": [
    "from phenotype_utils import readable_phenotype, smart_phenotype\n",
    "\n",
    "def plot_fit(results):\n",
    "    epochs = np.arange(len(results[0]))\n",
    "    #print(epochs)\n",
    "    averages_all = []\n",
    "    bests_all = []\n",
    "    stds_all = []\n",
    "    best_of_all = []\n",
    "    stds_best_all = [] \n",
    "    boa_fit = 0\n",
    "    boa_indiv = None\n",
    "    for iteration in epochs:\n",
    "        averages_all.append([])\n",
    "        bests_all.append([])\n",
    "        stds_all.append([])\n",
    "        best_of_all.append(0)\n",
    "        stds_best_all.append(0)        \n",
    "        for result in results:\n",
    "            all_fits = []\n",
    "            best = 0\n",
    "            gen_best = 0\n",
    "            for indiv in result[iteration]:\n",
    "                if indiv['fitness'] < best:\n",
    "                    best = indiv['fitness']\n",
    "                    #plot_iter([indiv])\n",
    "                    #print(indiv['other_info'].keys())\n",
    "                    if indiv['fitness'] < boa_fit:\n",
    "                        boa_fit = best\n",
    "                        boa_indiv = indiv\n",
    "                        phen = smart_phenotype(indiv[\"phenotype\"])\n",
    "                        phen = readable_phenotype(indiv[\"phenotype\"])\n",
    "                        #print(f'------NEW BEST------\\n{iteration}-{boa_fit}\\n{phen}\\n--------------------')\n",
    "                        #plot_iter([boa_indiv], len(indiv['other_info']['loss']), color='red', id_num=iteration)\n",
    "                best = best if indiv['fitness'] > best else indiv['fitness']\n",
    "                all_fits.append(indiv['fitness'])\n",
    "            averages_all[iteration].append(np.average(all_fits))\n",
    "            stds_all[iteration].append(np.std(all_fits))\n",
    "            bests_all[iteration].append(best)\n",
    "        stds_best_all[iteration] = np.std(bests_all[iteration]) * -1\n",
    "        stds_all[iteration] = np.std(averages_all[iteration])\n",
    "        averages_all[iteration] = np.average(averages_all[iteration]) * -1\n",
    "        best_of_all[iteration] = np.min(bests_all[iteration])  * -1\n",
    "        bests_all[iteration] = np.average(bests_all[iteration]) * -1\n",
    "    plt.figure(facecolor='#eff2f1')\n",
    "    ax = plt.axes()\n",
    "    ax.set_facecolor(color=\"#eff2f1\")\n",
    "    ax.spines['bottom'].set_color('#08415c')\n",
    "    ax.spines['top'].set_color('#08415c')\n",
    "    ax.spines['left'].set_color('#08415c')\n",
    "    ax.spines['right'].set_color('#08415c')\n",
    "    ax.xaxis.label.set_color('#08415c')\n",
    "    ax.yaxis.label.set_color('#08415c')\n",
    "    ax.tick_params(axis='x', colors='#08415c')\n",
    "    ax.tick_params(axis='y', colors=\"#08415c\")\n",
    "    plt.plot(epochs, averages_all, label='population average', color=\"#7796cb\")\n",
    "    plt.fill_between(epochs, [i + j for i, j in zip(averages_all, stds_all)], [i - j for i, j in zip(averages_all, stds_all)], alpha=0.2)\n",
    "    plt.plot(epochs, bests_all, label='best average', color=\"#EFA00B\")   \n",
    "    plt.fill_between(epochs, [i + j for i, j in zip(bests_all, stds_best_all)], [i - j for i, j in zip(bests_all, stds_best_all)], alpha=0.2)\n",
    "    #plt.plot(epochs, [0.7862666646639506 for i in bests_all], label='fixed lr val_acc')\n",
    "    #plt.plot(epochs, best_of_all, label='best of all')\n",
    "    plt.xlabel('Generation')\n",
    "    plt.ylabel('Accuracy') \n",
    "    plt.legend(labelcolor='#08415c', facecolor=\"#eff2f1\")\n",
    "    plt.savefig('best_average_evolution1.png')\n",
    "\n",
    "plot_fit(results)"
   ]
  },
  {
   "cell_type": "code",
   "execution_count": 55,
   "metadata": {},
   "outputs": [
    {
     "data": {
      "text/plain": "'tf.math.multiply(tf.math.subtract(tf.math.negative(tf.math.subtract(sigma, tf.math.negative(grad))), grad), tf.math.sqrt(tf.constant(7.03711536e-03, shape=shape, dtype=tf.float32)))'"
     },
     "execution_count": 55,
     "metadata": {},
     "output_type": "execute_result"
    }
   ],
   "source": [
    "smart_phenotype(\"alpha_func, beta_func, sigma_func, grad_func = lambda shape,  alpha, grad: tf.math.sqrt(tf.constant(9.38616893e-01, shape=shape, dtype=tf.float32)), lambda shape,  alpha, beta, grad: grad, lambda shape,  alpha, beta, sigma, grad: tf.math.subtract(sigma, tf.math.negative(grad)), lambda shape,  alpha, beta, sigma, grad: tf.math.multiply(tf.math.subtract(tf.math.negative(sigma), beta), tf.math.sqrt(tf.constant(7.03711536e-03, shape=shape, dtype=tf.float32)))\")"
   ]
  }
 ],
 "metadata": {
  "kernelspec": {
   "display_name": "Python 3.8.9 64-bit",
   "name": "python389jvsc74a57bd031f2aee4e71d21fbe5cf8b01ff0e069b9275f58929596ceb00d14d90e3e16cd6"
  },
  "language_info": {
   "codemirror_mode": {
    "name": "ipython",
    "version": 3
   },
   "file_extension": ".py",
   "mimetype": "text/x-python",
   "name": "python",
   "nbconvert_exporter": "python",
   "pygments_lexer": "ipython3",
   "version": "3.8.9"
  },
  "metadata": {
   "interpreter": {
    "hash": "31f2aee4e71d21fbe5cf8b01ff0e069b9275f58929596ceb00d14d90e3e16cd6"
   }
  },
  "orig_nbformat": 3
 },
 "nbformat": 4,
 "nbformat_minor": 2
}