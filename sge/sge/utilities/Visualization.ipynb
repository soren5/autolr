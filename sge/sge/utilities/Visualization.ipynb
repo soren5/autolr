{
 "cells": [
  {
   "cell_type": "code",
   "execution_count": 8,
   "metadata": {},
   "outputs": [],
   "source": [
    "import json\n",
    "import os\n",
    "import numpy as np\n",
    "import matplotlib.pyplot as plt\n",
    "import matplotlib\n",
    "matplotlib.rcParams['pdf.fonttype'] = 42\n",
    "matplotlib.rcParams['ps.fonttype'] = 42"
   ]
  },
  {
   "cell_type": "code",
   "execution_count": 9,
   "metadata": {},
   "outputs": [],
   "source": [
    "def prot_div(left, right):\n",
    "    if right == 0:\n",
    "        return 0\n",
    "    else:\n",
    "        return left / right\n",
    "\n",
    "def if_func(condition, state1, state2):\n",
    "    if condition:\n",
    "        return state1\n",
    "    else:\n",
    "        return state2\n",
    "\n",
    "def read_experiment_results(experiment_name, iterations, epochs=100):\n",
    "    dir_name = '/Users/soren/Work/Research/dsge_learning_rate/results/' + experiment_name\n",
    "    results = []\n",
    "    for it in range(iterations):\n",
    "        with open(dir_name + 'iteration_' + str(it) + '.json') as json_file:\n",
    "            if it % 10 == 0:\n",
    "                print(it)\n",
    "            data = json.load(json_file)\n",
    "            for i in data:\n",
    "                #print(i['phenotype'])\n",
    "                past_lr = 0.01\n",
    "                i['values'] = []\n",
    "                for epoch in range(epochs):\n",
    "                    learning_rate = past_lr\n",
    "                    lr = eval(i['phenotype'])\n",
    "                    past_lr = lr\n",
    "                    i['values'].append(lr)\n",
    "            results.append(data)\n",
    "    print(\"Finished reading \", experiment_name)\n",
    "    return results\n"
   ]
  },
  {
   "cell_type": "code",
   "execution_count": 10,
   "metadata": {},
   "outputs": [
    {
     "name": "stdout",
     "output_type": "stream",
     "text": [
      "0\n",
      "10\n",
      "20\n",
      "30\n",
      "40\n",
      "Finished reading  trial2/run_1/\n",
      "0\n",
      "10\n",
      "20\n",
      "30\n",
      "40\n",
      "Finished reading  trial2/run_2/\n",
      "0\n",
      "10\n",
      "20\n",
      "30\n",
      "40\n",
      "Finished reading  trial2/run_3/\n",
      "0\n",
      "10\n",
      "20\n",
      "30\n",
      "40\n",
      "Finished reading  trial2/run_4/\n",
      "0\n",
      "10\n",
      "20\n",
      "30\n",
      "40\n",
      "Finished reading  trial2/run_5/\n",
      "0\n",
      "10\n",
      "20\n",
      "30\n",
      "40\n",
      "Finished reading  trial2/run_6/\n",
      "0\n",
      "10\n",
      "20\n",
      "30\n",
      "40\n",
      "Finished reading  trial2/run_7/\n",
      "0\n",
      "10\n",
      "20\n",
      "30\n",
      "40\n",
      "Finished reading  trial2/run_8/\n",
      "0\n",
      "10\n",
      "20\n",
      "30\n",
      "40\n",
      "Finished reading  trial2/run_9/\n",
      "0\n",
      "10\n",
      "20\n",
      "30\n",
      "40\n",
      "Finished reading  trial2/run_10/\n"
     ]
    }
   ],
   "source": [
    "results = []\n",
    "month = '1'\n",
    "day = '17'\n",
    "trial_number = '2'\n",
    "#folder_name = 'dumps_' + month + '_' + day\n",
    "folder_name = 'dumps/adaptiveTest'\n",
    "#folder_name = 'trial' + trial_number\n",
    "#run_number = ['2','3','4','5','6','7','8','9','11','12']\n",
    "run_number = ['1','2','3','4','5','6','7','8','9','10']\n",
    "iterations = 1500\n",
    "for i in run_number: \n",
    "    results.append(read_experiment_results(folder_name + '/run_' + i + '/', iterations))\n"
   ]
  },
  {
   "cell_type": "code",
   "execution_count": 11,
   "metadata": {},
   "outputs": [],
   "source": [
    "def plot_iter(iter_results, stop_epoch, indivs=None, color='blue', id_num=0):\n",
    "    epochs = np.arange(len(iter_results[0]['values']))\n",
    "    if indivs == None:\n",
    "        for i in iter_results:\n",
    "            plt.xlabel('Epoch')\n",
    "            plt.ylabel('Learning Rate')\n",
    "            plt.axvline(stop_epoch)\n",
    "            plt.plot(epochs, i['values'], label='val_acc: ' + str(-i['fitness']), color=color)\n",
    "            plt.savefig(str(id_num) + '.pdf')\n",
    "            plt.show()\n",
    "            foo = 0\n",
    "            for x in i['other_info']['val_accuracy']:\n",
    "                print(x, foo)\n",
    "                foo += 1\n",
    "    plt.show()\n",
    "        \n",
    "        \n",
    "\n",
    "def plot_fit(results):\n",
    "    epochs = np.arange(len(results[0]))\n",
    "    #print(epochs)\n",
    "    averages_all = []\n",
    "    bests_all = []\n",
    "    stds_all = []\n",
    "    best_of_all = []\n",
    "    stds_best_all = [] \n",
    "    boa_fit = 0\n",
    "    boa_indiv = None\n",
    "    for iteration in epochs:\n",
    "        averages_all.append([])\n",
    "        bests_all.append([])\n",
    "        stds_all.append([])\n",
    "        best_of_all.append(0)\n",
    "        stds_best_all.append(0)        \n",
    "        for result in results:\n",
    "            all_fits = []\n",
    "            best = 0\n",
    "            gen_best = 0\n",
    "            for indiv in result[iteration]:\n",
    "                if indiv['fitness'] < best:\n",
    "                    best = indiv['fitness']\n",
    "                    #plot_iter([indiv])\n",
    "                    #print(indiv['other_info'].keys())\n",
    "                    if indiv['fitness'] < boa_fit:\n",
    "                        boa_fit = best\n",
    "                        boa_indiv = indiv\n",
    "                        print('NEW BEST\\n', indiv['phenotype'], iteration)\n",
    "                        plot_iter([boa_indiv], len(indiv['other_info']['loss']), color='red', id_num=iteration)\n",
    "                best = best if indiv['fitness'] > best else indiv['fitness']\n",
    "                all_fits.append(indiv['fitness'])\n",
    "            averages_all[iteration].append(np.average(all_fits))\n",
    "            stds_all[iteration].append(np.std(all_fits))\n",
    "            bests_all[iteration].append(best)\n",
    "        stds_best_all[iteration] = np.std(bests_all[iteration]) * -1\n",
    "        stds_all[iteration] = np.std(averages_all[iteration])\n",
    "        averages_all[iteration] = np.average(averages_all[iteration]) * -1\n",
    "        best_of_all[iteration] = np.min(bests_all[iteration])  * -1\n",
    "        bests_all[iteration] = np.average(bests_all[iteration]) * -1\n",
    "    #plt.plot(epochs, averages_all, label='population average')\n",
    "    #plt.fill_between(epochs, [i + j for i, j in zip(averages_all, stds_all)], [i - j for i, j in zip(averages_all, stds_all)], alpha=0.2)\n",
    "    plt.plot(epochs, bests_all, label='best average')   \n",
    "    plt.fill_between(epochs, [i + j for i, j in zip(bests_all, stds_best_all)], [i - j for i, j in zip(bests_all, stds_best_all)], alpha=0.2)\n",
    "    #plt.plot(epochs, [0.7862666646639506 for i in bests_all], label='fixed lr val_acc')\n",
    "    #plt.plot(epochs, best_of_all, label='best of all')\n",
    "    plt.xlabel('Generation')\n",
    "    plt.ylabel('Accuracy')\n",
    "    plt.legend()\n",
    "    plt.savefig('best_average_evolution.pdf')\n",
    "    plt.show()\n",
    "\n"
   ]
  },
  {
   "cell_type": "code",
   "execution_count": 12,
   "metadata": {
    "scrolled": false
   },
   "outputs": [
    {
     "name": "stdout",
     "output_type": "stream",
     "text": [
      "NEW BEST\n",
      " 0.03541818181818182 0\n"
     ]
    },
    {
     "data": {
      "image/png": "[encoded data removed]",
      "text/plain": [
       "<Figure size 432x288 with 1 Axes>"
      ]
     },
     "metadata": {
      "needs_background": "light"
     },
     "output_type": "display_data"
    },
    {
     "name": "stdout",
     "output_type": "stream",
     "text": [
      "0.4350000023841858 0\n",
      "0.6156666874885559 1\n",
      "0.6330000162124634 2\n",
      "0.6566666960716248 3\n",
      "0.7226666808128357 4\n",
      "0.7829999923706055 5\n",
      "0.79666668176651 6\n",
      "0.8206666707992554 7\n",
      "0.8113333582878113 8\n",
      "0.8450000286102295 9\n",
      "0.8266666531562805 10\n",
      "0.8526666760444641 11\n",
      "0.8529999852180481 12\n",
      "0.8456666469573975 13\n",
      "0.8533333539962769 14\n",
      "0.8790000081062317 15\n",
      "0.8676666617393494 16\n",
      "0.8513333201408386 17\n",
      "0.859333336353302 18\n",
      "0.875333309173584 19\n",
      "NEW BEST\n",
      " if_func(epoch >= 94, 0.08486363636363638, if_func(learning_rate > 0.03844545454545455, if_func(epoch > 31, if_func(learning_rate >= 0.016245454545454546, 0.1, if_func(epoch < 74, 0.05358181818181819, if_func(epoch <= 46, 0.0878909090909091, 0.01019090909090909))), 0.05963636363636364), 0.0223)) 0\n"
     ]
    },
    {
     "data": {
      "image/png": "[encoded data removed]",
      "text/plain": [
       "<Figure size 432x288 with 1 Axes>"
      ]
     },
     "metadata": {
      "needs_background": "light"
     },
     "output_type": "display_data"
    },
    {
     "name": "stdout",
     "output_type": "stream",
     "text": [
      "0.5873333215713501 0\n",
      "0.6516666412353516 1\n",
      "0.6903333067893982 2\n",
      "0.7013333439826965 3\n",
      "0.7056666612625122 4\n",
      "0.746999979019165 5\n",
      "0.8009999990463257 6\n",
      "0.8086666464805603 7\n",
      "0.8149999976158142 8\n",
      "0.8173333406448364 9\n",
      "0.8006666898727417 10\n",
      "0.8226666450500488 11\n",
      "0.8413333296775818 12\n",
      "0.8399999737739563 13\n",
      "0.8519999980926514 14\n",
      "0.8519999980926514 15\n",
      "0.8486666679382324 16\n",
      "0.8579999804496765 17\n",
      "0.859000027179718 18\n",
      "0.859333336353302 19\n",
      "NEW BEST\n",
      " 0.026336363636363637 1\n"
     ]
    },
    {
     "data": {
      "image/png": "[encoded data removed]",
      "text/plain": [
       "<Figure size 432x288 with 1 Axes>"
      ]
     },
     "metadata": {
      "needs_background": "light"
     },
     "output_type": "display_data"
    },
    {
     "name": "stdout",
     "output_type": "stream",
     "text": [
      "0.47066667675971985 0\n",
      "0.5809999704360962 1\n",
      "0.7096666693687439 2\n",
      "0.7456666827201843 3\n",
      "0.7786666750907898 4\n",
      "0.8023333549499512 5\n",
      "0.82833331823349 6\n",
      "0.8100000023841858 7\n",
      "0.8190000057220459 8\n",
      "0.8220000267028809 9\n",
      "0.8220000267028809 10\n",
      "0.8399999737739563 11\n",
      "0.8373333215713501 12\n",
      "0.8426666855812073 13\n",
      "0.8426666855812073 14\n",
      "0.8543333411216736 15\n",
      "0.8416666388511658 16\n",
      "0.8463333249092102 17\n",
      "0.828000009059906 18\n",
      "0.8576666712760925 19\n",
      "NEW BEST\n",
      " 0.0223 1\n"
     ]
    },
    {
     "data": {
      "image/png": "[encoded data removed]",
      "text/plain": [
       "<Figure size 432x288 with 1 Axes>"
      ]
     },
     "metadata": {
      "needs_background": "light"
     },
     "output_type": "display_data"
    },
    {
     "name": "stdout",
     "output_type": "stream",
     "text": [
      "0.5640000104904175 0\n",
      "0.6446666717529297 1\n",
      "0.6743333339691162 2\n",
      "0.6639999747276306 3\n",
      "0.7086666822433472 4\n",
      "0.7526666522026062 5\n",
      "0.7749999761581421 6\n",
      "0.8003333210945129 7\n",
      "0.8166666626930237 8\n",
      "0.812666654586792 9\n",
      "0.8273333311080933 10\n",
      "0.8320000171661377 11\n",
      "0.8353333473205566 12\n",
      "0.8483333587646484 13\n",
      "0.8386666774749756 14\n",
      "0.8389999866485596 15\n",
      "0.8506666421890259 16\n",
      "0.8503333330154419 17\n",
      "0.859333336353302 18\n",
      "0.8576666712760925 19\n",
      "NEW BEST\n",
      " 0.026336363636363637 2\n"
     ]
    },
    {
     "data": {
      "image/png": "[encoded data removed]",
      "text/plain": [
       "<Figure size 432x288 with 1 Axes>"
      ]
     },
     "metadata": {
      "needs_background": "light"
     },
     "output_type": "display_data"
    },
    {
     "name": "stdout",
     "output_type": "stream",
     "text": [
      "0.625333309173584 0\n",
      "0.7409999966621399 1\n",
      "0.7946666479110718 2\n",
      "0.7960000038146973 3\n",
      "0.7839999794960022 4\n",
      "0.8183333277702332 5\n",
      "0.8226666450500488 6\n",
      "0.8326666951179504 7\n",
      "0.8433333039283752 8\n",
      "0.8460000157356262 9\n",
      "0.8429999947547913 10\n",
      "0.8519999980926514 11\n",
      "0.8533333539962769 12\n",
      "0.8603333234786987 13\n",
      "0.8693333268165588 14\n",
      "0.8533333539962769 15\n",
      "0.8713333606719971 16\n",
      "0.8733333349227905 17\n",
      "0.8730000257492065 18\n",
      "0.875 19\n",
      "NEW BEST\n",
      " 0.0223 9\n"
     ]
    },
    {
     "data": {
      "image/png": "[encoded data removed]",
      "text/plain": [
       "<Figure size 432x288 with 1 Axes>"
      ]
     },
     "metadata": {
      "needs_background": "light"
     },
     "output_type": "display_data"
    },
    {
     "name": "stdout",
     "output_type": "stream",
     "text": [
      "0.5239999890327454 0\n",
      "0.6303333044052124 1\n",
      "0.6513333320617676 2\n",
      "0.7006666660308838 3\n",
      "0.6853333115577698 4\n",
      "0.7086666822433472 5\n",
      "0.7350000143051147 6\n",
      "0.7293333411216736 7\n",
      "0.7796666622161865 8\n",
      "0.7923333048820496 9\n",
      "0.8326666951179504 10\n",
      "0.8183333277702332 11\n",
      "0.8243333101272583 12\n",
      "0.8416666388511658 13\n",
      "0.8450000286102295 14\n",
      "0.8503333330154419 15\n",
      "0.846666693687439 16\n",
      "0.8489999771118164 17\n",
      "0.8456666469573975 18\n",
      "0.8650000095367432 19\n",
      "NEW BEST\n",
      " if_func(epoch <= 25, 0.02532727272727273, 0.0031272727272727272) 22\n"
     ]
    },
    {
     "data": {
      "image/png": "[encoded data removed]",
      "text/plain": [
       "<Figure size 432x288 with 1 Axes>"
      ]
     },
     "metadata": {
      "needs_background": "light"
     },
     "output_type": "display_data"
    },
    {
     "name": "stdout",
     "output_type": "stream",
     "text": [
      "0.6060000061988831 0\n",
      "0.7486666440963745 1\n",
      "0.7576666474342346 2\n",
      "0.7839999794960022 3\n",
      "0.8273333311080933 4\n",
      "0.8143333196640015 5\n",
      "0.8113333582878113 6\n",
      "0.8353333473205566 7\n",
      "0.8316666483879089 8\n",
      "0.847000002861023 9\n",
      "0.8579999804496765 10\n",
      "0.8543333411216736 11\n",
      "0.8529999852180481 12\n",
      "0.8656666874885559 13\n",
      "0.8543333411216736 14\n",
      "0.8686666488647461 15\n",
      "0.8683333396911621 16\n",
      "0.8486666679382324 17\n",
      "0.8606666922569275 18\n",
      "0.875 19\n",
      "NEW BEST\n",
      " if_func(epoch < 67, 0.03541818181818182, if_func(epoch >= 59, if_func(learning_rate <= 0.05156363636363637, if_func(epoch < 39, if_func(epoch < 96, if_func(epoch <= 83, if_func(epoch > 89, if_func(epoch >= 85, 0.002118181818181818, if_func(epoch < 11, 0.05257272727272728, if_func(epoch <= 92, 0.0889, if_func(epoch < 91, 0.08082727272727273, 0.08587272727272728)))), 0.02431818181818182), 0.06871818181818183), 0.04853636363636364), 0.005145454545454546), if_func(learning_rate <= 0.09495454545454546, if_func(epoch < 44, if_func(learning_rate >= 0.06266363636363637, 0.09192727272727273, if_func(learning_rate >= 0.09495454545454546, 0.004136363636363637, if_func(learning_rate >= 0.03743636363636364, 0.09495454545454546, if_func(learning_rate <= 0.09798181818181818, if_func(epoch <= 16, 0.02532727272727273, 0.06569090909090909), if_func(epoch > 37, if_func(learning_rate >= 0.004136363636363637, 0.07477272727272728, 0.03945454545454546), if_func(learning_rate < 0.07578181818181819, 0.09091818181818183, 0.08284545454545456)))))), 0.04248181818181819), if_func(learning_rate >= 0.05156363636363637, if_func(learning_rate >= 0.08284545454545456, if_func(epoch < 48, 0.09697272727272728, if_func(learning_rate <= 0.0001, 0.006154545454545455, if_func(epoch < 36, 0.01927272727272727, 0.09798181818181818))), if_func(epoch < 25, 0.05963636363636364, 0.06670000000000001)), 0.03440909090909092))), 0.03541818181818182)) 26\n"
     ]
    },
    {
     "data": {
      "image/png": "[encoded data removed]",
      "text/plain": [
       "<Figure size 432x288 with 1 Axes>"
      ]
     },
     "metadata": {
      "needs_background": "light"
     },
     "output_type": "display_data"
    },
    {
     "name": "stdout",
     "output_type": "stream",
     "text": [
      "0.3373333215713501 0\n",
      "0.4950000047683716 1\n",
      "0.4963333308696747 2\n",
      "0.6980000138282776 3\n",
      "0.7683333158493042 4\n",
      "0.7680000066757202 5\n",
      "0.8116666674613953 6\n",
      "0.7960000038146973 7\n",
      "0.8136666417121887 8\n",
      "0.8209999799728394 9\n",
      "0.8296666741371155 10\n",
      "0.8226666450500488 11\n",
      "0.8190000057220459 12\n",
      "0.8130000233650208 13\n",
      "0.8159999847412109 14\n",
      "0.8420000076293945 15\n",
      "0.8426666855812073 16\n",
      "0.8463333249092102 17\n",
      "0.8389999866485596 18\n",
      "0.8489999771118164 19\n",
      "NEW BEST\n",
      " 0.02532727272727273 40\n"
     ]
    },
    {
     "data": {
      "image/png": "[encoded data removed]",
      "text/plain": [
       "<Figure size 432x288 with 1 Axes>"
      ]
     },
     "metadata": {
      "needs_background": "light"
     },
     "output_type": "display_data"
    },
    {
     "name": "stdout",
     "output_type": "stream",
     "text": [
      "0.67166668176651 0\n",
      "0.6990000009536743 1\n",
      "0.7620000243186951 2\n",
      "0.7816666960716248 3\n",
      "0.7816666960716248 4\n",
      "0.8076666593551636 5\n",
      "0.7950000166893005 6\n",
      "0.8133333325386047 7\n",
      "0.8190000057220459 8\n",
      "0.8069999814033508 9\n",
      "0.8266666531562805 10\n",
      "0.8233333230018616 11\n",
      "0.843999981880188 12\n",
      "0.8393333554267883 13\n",
      "0.8446666598320007 14\n",
      "0.847000002861023 15\n",
      "0.8533333539962769 16\n",
      "0.8546666502952576 17\n",
      "0.8453333377838135 18\n",
      "0.8653333187103271 19\n",
      "NEW BEST\n",
      " if_func(epoch < 67, 0.03541818181818182, if_func(epoch > 59, if_func(learning_rate <= 0.05156363636363637, if_func(learning_rate >= 0.002118181818181818, if_func(epoch < 39, if_func(epoch <= 21, if_func(epoch > 82, if_func(epoch >= 89, 0.05257272727272728, if_func(epoch < 85, 0.0889, if_func(epoch <= 11, 0.08082727272727273, if_func(learning_rate < 0.08587272727272728, 0.02431818181818182, 0.06871818181818183)))), if_func(learning_rate < 0.04853636363636364, 0.005145454545454546, 0.09495454545454546)), 0.07880909090909091), if_func(epoch < 92, 0.09192727272727273, if_func(learning_rate >= 0.06165454545454546, 0.004136363636363637, if_func(learning_rate >= 0.03743636363636364, 0.09495454545454546, if_func(learning_rate >= 0.03945454545454546, if_func(learning_rate <= 0.09596363636363638, if_func(epoch <= 31, 0.06569090909090909, 0.004136363636363637), if_func(learning_rate > 0.07477272727272728, if_func(learning_rate >= 0.03945454545454546, if_func(epoch < 58, if_func(learning_rate >= 0.07578181818181819, if_func(learning_rate >= 0.09091818181818183, if_func(epoch < 16, 0.08284545454545456, 0.04248181818181819), 0.05156363636363637), if_func(learning_rate <= 0.023309090909090908, 0.09697272727272728, if_func(epoch >= 37, 0.004136363636363637, if_func(epoch < 48, 0.006154545454545455, 0.04752727272727273)))), 0.09798181818181818), if_func(epoch > 36, if_func(learning_rate <= 0.05963636363636364, 0.06670000000000001, 0.03440909090909092), 0.03541818181818182)), 0.006154545454545455)), 0.09495454545454546))))), if_func(epoch > 25, 0.08385454545454546, 0.05055454545454546)), 0.01927272727272727), 0.09596363636363638)) 47\n"
     ]
    },
    {
     "data": {
      "image/png": "[encoded data removed]",
      "text/plain": [
       "<Figure size 432x288 with 1 Axes>"
      ]
     },
     "metadata": {
      "needs_background": "light"
     },
     "output_type": "display_data"
    },
    {
     "name": "stdout",
     "output_type": "stream",
     "text": [
      "0.3876666724681854 0\n",
      "0.5379999876022339 1\n",
      "0.6306666731834412 2\n",
      "0.7293333411216736 3\n",
      "0.7563333511352539 4\n",
      "0.7666666507720947 5\n",
      "0.7789999842643738 6\n",
      "0.7923333048820496 7\n",
      "0.8063333630561829 8\n",
      "0.8289999961853027 9\n",
      "0.8336666822433472 10\n",
      "0.8263333439826965 11\n",
      "0.8399999737739563 12\n",
      "0.8326666951179504 13\n",
      "0.8323333263397217 14\n",
      "0.8510000109672546 15\n",
      "0.8479999899864197 16\n",
      "0.8443333506584167 17\n",
      "0.8606666922569275 18\n",
      "0.8619999885559082 19\n"
     ]
    },
    {
     "data": {
      "image/png": "[encoded data removed]",
      "text/plain": [
       "<Figure size 432x288 with 1 Axes>"
      ]
     },
     "metadata": {
      "needs_background": "light"
     },
     "output_type": "display_data"
    }
   ],
   "source": [
    "plot_fit(results)"
   ]
  },
  {
   "cell_type": "code",
   "execution_count": 6,
   "metadata": {},
   "outputs": [
    {
     "name": "stdout",
     "output_type": "stream",
     "text": [
      "0.8607600021362304\n",
      "0.007338288333378498\n",
      "38.8\n",
      "0.8650666634241739\n"
     ]
    }
   ],
   "source": [
    "import json\n",
    "dire = '/Users/soren/Work/Research/dsge_learning_rate/results/'\n",
    "with open(dire + 'simple_results.json') as json_file:\n",
    "    data = json.load(json_file)\n",
    "    foo = []\n",
    "    duration = []\n",
    "    val_accs = []\n",
    "    for result_run in data:\n",
    "        foo.append(result_run[-1][-1])\n",
    "        duration.append(len(result_run[0]['history']['val_acc']))\n",
    "        val_accs.append(np.max(result_run[0]['history']['val_acc']))\n",
    "    print(np.average(foo))\n",
    "    print(np.std(foo))\n",
    "    print(np.average(duration))\n",
    "    print(np.average(val_accs))"
   ]
  },
  {
   "cell_type": "code",
   "execution_count": null,
   "metadata": {},
   "outputs": [],
   "source": []
  }
 ],
 "metadata": {
  "kernelspec": {
   "display_name": "Python 3",
   "language": "python",
   "name": "python3"
  },
  "language_info": {
   "codemirror_mode": {
    "name": "ipython",
    "version": 3
   },
   "file_extension": ".py",
   "mimetype": "text/x-python",
   "name": "python",
   "nbconvert_exporter": "python",
   "pygments_lexer": "ipython3",
   "version": "3.7.4"
  }
 },
 "nbformat": 4,
 "nbformat_minor": 2
}
